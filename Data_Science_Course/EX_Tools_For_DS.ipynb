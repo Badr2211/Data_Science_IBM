{
  "nbformat": 4,
  "nbformat_minor": 0,
  "metadata": {
    "colab": {
      "provenance": [],
      "authorship_tag": "ABX9TyORhjAJmFhft33v5/zsYRTL",
      "include_colab_link": true
    },
    "kernelspec": {
      "name": "python3",
      "display_name": "Python 3"
    },
    "language_info": {
      "name": "python"
    }
  },
  "cells": [
    {
      "cell_type": "markdown",
      "metadata": {
        "id": "view-in-github",
        "colab_type": "text"
      },
      "source": [
        "<a href=\"https://colab.research.google.com/github/Badr2211/Data_Science_IBM/blob/main/Data_Science_Course/EX_Tools_For_DS.ipynb\" target=\"_parent\"><img src=\"https://colab.research.google.com/assets/colab-badge.svg\" alt=\"Open In Colab\"/></a>"
      ]
    },
    {
      "cell_type": "markdown",
      "source": [
        "# IBM data science course"
      ],
      "metadata": {
        "id": "ZLw7-DCuFjbr"
      }
    },
    {
      "cell_type": "markdown",
      "source": [
        "\n",
        "\n",
        "## Introduction\n",
        "This notebook covers various exercises related to data science and programming."
      ],
      "metadata": {
        "id": "8jhET_lJF2J4"
      }
    },
    {
      "cell_type": "markdown",
      "source": [
        "## Data Science Languages\n",
        "\n",
        "- Python\n",
        "\n",
        "- R\n",
        "\n",
        "- Julia"
      ],
      "metadata": {
        "id": "w6MUe5EeHK6x"
      }
    },
    {
      "cell_type": "markdown",
      "source": [
        "## Data Science Libraries\n",
        "\n",
        "\n",
        "- NumPy\n",
        "\n",
        "\n",
        "- Pandas\n",
        "\n",
        "\n",
        "- Matplotlib\n",
        "\n",
        "\n",
        "- Scikit-learn\n",
        "\n",
        "\n",
        "- TensorFlow\n",
        "\n",
        "\n",
        "- PyTorch"
      ],
      "metadata": {
        "id": "hdwIQzUDHG8i"
      }
    },
    {
      "cell_type": "markdown",
      "source": [
        "\n",
        "\n",
        "## Data Science Tools\n",
        "\n",
        "| Category         | Tools                   |\n",
        "|------------------|-------------------------|\n",
        "| IDEs             | Jupyter, RStudio        |\n",
        "| Version Control  | Git, GitHub             |\n",
        "| Database         | SQL, MongoDB            |\n",
        "| Visualization    | Tableau, Power BI       |"
      ],
      "metadata": {
        "id": "UxQEz66BG70t"
      }
    },
    {
      "cell_type": "markdown",
      "source": [
        "\n",
        "## Arithmetic Expression Examples\n",
        "\n",
        "\n",
        "\n",
        "In this section, we'll explore examples of arithmetic expressions."
      ],
      "metadata": {
        "id": "kvoagiV9GwDO"
      }
    },
    {
      "cell_type": "code",
      "source": [
        "#Code Example: Multiply and Add Numbers\n",
        "\n",
        "\n",
        "\n",
        "\n",
        "#python\n",
        "\n",
        "\n",
        "\n",
        "\n",
        "# Multiply and add numbers\n",
        "\n",
        "\n",
        "\n",
        "\n",
        "result_multiply = 3 * 5\n",
        "\n",
        "\n",
        "\n",
        "\n",
        "result_add = 7 + 2"
      ],
      "metadata": {
        "id": "CGJyGMpIHbXs"
      },
      "execution_count": 1,
      "outputs": []
    },
    {
      "cell_type": "code",
      "source": [
        "# Convert minutes to hours\n",
        "minutes = 120\n",
        "hours = minutes / 60"
      ],
      "metadata": {
        "id": "kH3X_J8YJlXe"
      },
      "execution_count": 2,
      "outputs": []
    },
    {
      "cell_type": "markdown",
      "source": [
        "#ObjectivesLearn\n",
        "-  Explore data science languages and libraries.\n",
        "-Understand basic arithmetic expressions and coding examples."
      ],
      "metadata": {
        "id": "oAaGXmUMHvgL"
      }
    },
    {
      "cell_type": "markdown",
      "source": [
        "\n",
        "Feel free to customize the content as needed for your specific exercises and objectives.\n",
        "\n",
        "#AUTHOUR : Mohamed Badr"
      ],
      "metadata": {
        "id": "u_XFjyZYII_7"
      }
    }
  ]
}